{
 "cells": [
  {
   "cell_type": "code",
   "execution_count": 1,
   "metadata": {},
   "outputs": [
    {
     "name": "stdout",
     "output_type": "stream",
     "text": [
      "2019-09-27 17:05:24,022 - /Users/luoyonggui/PycharmProjects/mayifactories/finance/stock2mongo.py - INFO - Namespace(end_date='20190927', mode='stock', start_date='20010101', ts_code='600115.SH')\n",
      "2019-09-27 17:05:24,029 - /Users/luoyonggui/PycharmProjects/mayifactories/finance/stock2mongo.py - INFO - 600115.SH表在数据库中存在，update表数据！\n",
      "20190928 20190927\n",
      "2019-09-27 17:05:24,404 - /Users/luoyonggui/PycharmProjects/mayifactories/finance/stock2mongo.py - INFO - 共请求到0条数据！\n",
      "2019-09-27 17:05:24,405 - /Users/luoyonggui/PycharmProjects/mayifactories/finance/stock2mongo.py - WARNING - 请求数据为空！\n",
      "2019-09-27 17:05:25,192 - /Users/luoyonggui/PycharmProjects/mayifactories/finance/stock2mongo.py - INFO - Namespace(end_date='20190927', mode='stock', start_date='20010101', ts_code='600029.SH')\n",
      "2019-09-27 17:05:25,197 - /Users/luoyonggui/PycharmProjects/mayifactories/finance/stock2mongo.py - INFO - 600029.SH表在数据库中存在，update表数据！\n",
      "20190928 20190927\n",
      "2019-09-27 17:05:27,016 - /Users/luoyonggui/PycharmProjects/mayifactories/finance/stock2mongo.py - INFO - 共请求到0条数据！\n",
      "2019-09-27 17:05:27,016 - /Users/luoyonggui/PycharmProjects/mayifactories/finance/stock2mongo.py - WARNING - 请求数据为空！\n",
      "2019-09-27 17:05:27,881 - /Users/luoyonggui/PycharmProjects/mayifactories/finance/stock2mongo.py - INFO - Namespace(end_date='20190927', mode='stock', start_date='20010101', ts_code='600004.SH')\n",
      "2019-09-27 17:05:27,886 - /Users/luoyonggui/PycharmProjects/mayifactories/finance/stock2mongo.py - INFO - 600004.SH表在数据库中存在，update表数据！\n",
      "20190928 20190927\n",
      "2019-09-27 17:05:28,271 - /Users/luoyonggui/PycharmProjects/mayifactories/finance/stock2mongo.py - INFO - 共请求到0条数据！\n",
      "2019-09-27 17:05:28,271 - /Users/luoyonggui/PycharmProjects/mayifactories/finance/stock2mongo.py - WARNING - 请求数据为空！\n",
      "    index_1w     涨幅_1w   index_1m  ...     涨幅_6m   index_1y     涨幅_1y\n",
      "0       白云机场  0.062916       白云机场  ...  0.542336       白云机场  0.838217\n",
      "1       南方航空 -0.010324       东方航空  ... -0.030977  000001.SH  0.049185\n",
      "2  000001.SH -0.023402  000001.SH  ... -0.164999       南方航空  0.011250\n",
      "3       东方航空 -0.031307       南方航空  ... -0.189522       东方航空 -0.055656\n",
      "\n",
      "[4 rows x 10 columns]\n",
      "Figure(640x480)\n",
      "Figure(640x480)\n"
     ]
    }
   ],
   "source": [
    "!python plate_perspective.py"
   ]
  },
  {
   "cell_type": "code",
   "execution_count": null,
   "metadata": {},
   "outputs": [],
   "source": []
  }
 ],
 "metadata": {
  "kernelspec": {
   "display_name": "Python 3",
   "language": "python",
   "name": "python3"
  },
  "language_info": {
   "codemirror_mode": {
    "name": "ipython",
    "version": 3
   },
   "file_extension": ".py",
   "mimetype": "text/x-python",
   "name": "python",
   "nbconvert_exporter": "python",
   "pygments_lexer": "ipython3",
   "version": "3.7.3"
  },
  "toc": {
   "base_numbering": 1,
   "nav_menu": {},
   "number_sections": true,
   "sideBar": true,
   "skip_h1_title": false,
   "title_cell": "Table of Contents",
   "title_sidebar": "Contents",
   "toc_cell": false,
   "toc_position": {},
   "toc_section_display": true,
   "toc_window_display": false
  }
 },
 "nbformat": 4,
 "nbformat_minor": 2
}
